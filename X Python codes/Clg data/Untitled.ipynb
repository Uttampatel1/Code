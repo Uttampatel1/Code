{
 "cells": [
  {
   "cell_type": "code",
   "execution_count": 1,
   "id": "3da98ac8",
   "metadata": {},
   "outputs": [],
   "source": [
    "import pandas as pd\n",
    "import numpy as np"
   ]
  },
  {
   "cell_type": "code",
   "execution_count": 3,
   "id": "53b76713",
   "metadata": {},
   "outputs": [
    {
     "data": {
      "text/html": [
       "<div>\n",
       "<style scoped>\n",
       "    .dataframe tbody tr th:only-of-type {\n",
       "        vertical-align: middle;\n",
       "    }\n",
       "\n",
       "    .dataframe tbody tr th {\n",
       "        vertical-align: top;\n",
       "    }\n",
       "\n",
       "    .dataframe thead th {\n",
       "        text-align: right;\n",
       "    }\n",
       "</style>\n",
       "<table border=\"1\" class=\"dataframe\">\n",
       "  <thead>\n",
       "    <tr style=\"text-align: right;\">\n",
       "      <th></th>\n",
       "      <th>No</th>\n",
       "      <th>Roll No</th>\n",
       "      <th>Student_Name</th>\n",
       "      <th>Student_Mobile No</th>\n",
       "      <th>P_MobileNo</th>\n",
       "      <th>Student Email ID</th>\n",
       "      <th>NS_Mobile No</th>\n",
       "      <th>NP_MobileNo</th>\n",
       "      <th>New Student Email ID</th>\n",
       "    </tr>\n",
       "  </thead>\n",
       "  <tbody>\n",
       "    <tr>\n",
       "      <th>0</th>\n",
       "      <td>1.000000</td>\n",
       "      <td>2.000000e+11</td>\n",
       "      <td>AGATH MILAN MALDEBHAI</td>\n",
       "      <td>9664538940</td>\n",
       "      <td>9.825213e+09</td>\n",
       "      <td>200203041001@silveroakuni.ac.in</td>\n",
       "      <td>NaN</td>\n",
       "      <td>NaN</td>\n",
       "      <td>NaN</td>\n",
       "    </tr>\n",
       "    <tr>\n",
       "      <th>1</th>\n",
       "      <td>2.000000</td>\n",
       "      <td>2.000000e+11</td>\n",
       "      <td>AKABARI BHAVDIP CHIMANBHAI</td>\n",
       "      <td>9408539527</td>\n",
       "      <td>9.427555e+09</td>\n",
       "      <td>200203041002@silveroakuni.ac.in</td>\n",
       "      <td>NaN</td>\n",
       "      <td>NaN</td>\n",
       "      <td>NaN</td>\n",
       "    </tr>\n",
       "    <tr>\n",
       "      <th>2</th>\n",
       "      <td>3.000000</td>\n",
       "      <td>2.000000e+11</td>\n",
       "      <td>BHALALA MONALI JITENDRAKUMAR</td>\n",
       "      <td>9773457958</td>\n",
       "      <td>9.909798e+09</td>\n",
       "      <td>200203041003@silveroakuni.ac.in</td>\n",
       "      <td>NaN</td>\n",
       "      <td>NaN</td>\n",
       "      <td>NaN</td>\n",
       "    </tr>\n",
       "    <tr>\n",
       "      <th>3</th>\n",
       "      <td>4.000000</td>\n",
       "      <td>2.000000e+11</td>\n",
       "      <td>BHAYANI UTSAV VITTHALBHAI</td>\n",
       "      <td>7046421641</td>\n",
       "      <td>9.104434e+09</td>\n",
       "      <td>200203041004@silveroakuni.ac.in</td>\n",
       "      <td>NaN</td>\n",
       "      <td>9104433505</td>\n",
       "      <td>NaN</td>\n",
       "    </tr>\n",
       "    <tr>\n",
       "      <th>4</th>\n",
       "      <td>5.000000</td>\n",
       "      <td>2.000000e+11</td>\n",
       "      <td>BORAD DHRUVESHKUMAR JENTILAL</td>\n",
       "      <td>7698342723</td>\n",
       "      <td>9.727418e+09</td>\n",
       "      <td>200203041005@silveroakuni.ac.in</td>\n",
       "      <td>NaN</td>\n",
       "      <td>NaN</td>\n",
       "      <td>NaN</td>\n",
       "    </tr>\n",
       "    <tr>\n",
       "      <th>...</th>\n",
       "      <td>...</td>\n",
       "      <td>...</td>\n",
       "      <td>...</td>\n",
       "      <td>...</td>\n",
       "      <td>...</td>\n",
       "      <td>...</td>\n",
       "      <td>...</td>\n",
       "      <td>...</td>\n",
       "      <td>...</td>\n",
       "    </tr>\n",
       "    <tr>\n",
       "      <th>445</th>\n",
       "      <td>35.563153</td>\n",
       "      <td>2.100000e+11</td>\n",
       "      <td>PATEL DEVANSHI JAYESHBHAI</td>\n",
       "      <td>7096015285</td>\n",
       "      <td>9.825752e+09</td>\n",
       "      <td>devanshi7203@gmail.com</td>\n",
       "      <td>NaN</td>\n",
       "      <td>NaN</td>\n",
       "      <td>NaN</td>\n",
       "    </tr>\n",
       "    <tr>\n",
       "      <th>446</th>\n",
       "      <td>35.578298</td>\n",
       "      <td>2.100000e+11</td>\n",
       "      <td>VIDHI PATEL</td>\n",
       "      <td>9054924599</td>\n",
       "      <td>9.825558e+09</td>\n",
       "      <td>patelvidhi3108@gmail.com</td>\n",
       "      <td>NaN</td>\n",
       "      <td>NaN</td>\n",
       "      <td>NaN</td>\n",
       "    </tr>\n",
       "    <tr>\n",
       "      <th>447</th>\n",
       "      <td>35.593444</td>\n",
       "      <td>2.100000e+11</td>\n",
       "      <td>PATIL DEEPAK PRADIP</td>\n",
       "      <td>9106292221</td>\n",
       "      <td>8.485935e+09</td>\n",
       "      <td>deepaksury054@gmail.com</td>\n",
       "      <td>NaN</td>\n",
       "      <td>NaN</td>\n",
       "      <td>NaN</td>\n",
       "    </tr>\n",
       "    <tr>\n",
       "      <th>448</th>\n",
       "      <td>35.608590</td>\n",
       "      <td>2.100000e+11</td>\n",
       "      <td>PRAJAPATI HEMANSHI RAKESHKUMAR</td>\n",
       "      <td>9574715975</td>\n",
       "      <td>NaN</td>\n",
       "      <td>himanshiprajapati2212@gmail.com</td>\n",
       "      <td>NaN</td>\n",
       "      <td>NaN</td>\n",
       "      <td>NaN</td>\n",
       "    </tr>\n",
       "    <tr>\n",
       "      <th>449</th>\n",
       "      <td>35.623736</td>\n",
       "      <td>2.100000e+11</td>\n",
       "      <td>KATHIRIYA NANDANI JAGDISHBHAI</td>\n",
       "      <td>7862840886</td>\n",
       "      <td>9.979525e+09</td>\n",
       "      <td>nandanikathiriya2003@gmail.com</td>\n",
       "      <td>NaN</td>\n",
       "      <td>8485935424</td>\n",
       "      <td>NaN</td>\n",
       "    </tr>\n",
       "  </tbody>\n",
       "</table>\n",
       "<p>450 rows × 9 columns</p>\n",
       "</div>"
      ],
      "text/plain": [
       "            No       Roll No                    Student_Name  \\\n",
       "0     1.000000  2.000000e+11           AGATH MILAN MALDEBHAI   \n",
       "1     2.000000  2.000000e+11      AKABARI BHAVDIP CHIMANBHAI   \n",
       "2     3.000000  2.000000e+11    BHALALA MONALI JITENDRAKUMAR   \n",
       "3     4.000000  2.000000e+11       BHAYANI UTSAV VITTHALBHAI   \n",
       "4     5.000000  2.000000e+11    BORAD DHRUVESHKUMAR JENTILAL   \n",
       "..         ...           ...                             ...   \n",
       "445  35.563153  2.100000e+11       PATEL DEVANSHI JAYESHBHAI   \n",
       "446  35.578298  2.100000e+11                     VIDHI PATEL   \n",
       "447  35.593444  2.100000e+11             PATIL DEEPAK PRADIP   \n",
       "448  35.608590  2.100000e+11  PRAJAPATI HEMANSHI RAKESHKUMAR   \n",
       "449  35.623736  2.100000e+11   KATHIRIYA NANDANI JAGDISHBHAI   \n",
       "\n",
       "     Student_Mobile No    P_MobileNo                 Student Email ID  \\\n",
       "0           9664538940  9.825213e+09  200203041001@silveroakuni.ac.in   \n",
       "1           9408539527  9.427555e+09  200203041002@silveroakuni.ac.in   \n",
       "2           9773457958  9.909798e+09  200203041003@silveroakuni.ac.in   \n",
       "3           7046421641  9.104434e+09  200203041004@silveroakuni.ac.in   \n",
       "4           7698342723  9.727418e+09  200203041005@silveroakuni.ac.in   \n",
       "..                 ...           ...                              ...   \n",
       "445         7096015285  9.825752e+09           devanshi7203@gmail.com   \n",
       "446         9054924599  9.825558e+09         patelvidhi3108@gmail.com   \n",
       "447         9106292221  8.485935e+09          deepaksury054@gmail.com   \n",
       "448         9574715975           NaN  himanshiprajapati2212@gmail.com   \n",
       "449         7862840886  9.979525e+09   nandanikathiriya2003@gmail.com   \n",
       "\n",
       "    NS_Mobile No NP_MobileNo New Student Email ID  \n",
       "0            NaN         NaN                  NaN  \n",
       "1            NaN         NaN                  NaN  \n",
       "2            NaN         NaN                  NaN  \n",
       "3            NaN  9104433505                  NaN  \n",
       "4            NaN         NaN                  NaN  \n",
       "..           ...         ...                  ...  \n",
       "445          NaN         NaN                  NaN  \n",
       "446          NaN         NaN                  NaN  \n",
       "447          NaN         NaN                  NaN  \n",
       "448          NaN         NaN                  NaN  \n",
       "449          NaN  8485935424                  NaN  \n",
       "\n",
       "[450 rows x 9 columns]"
      ]
     },
     "execution_count": 3,
     "metadata": {},
     "output_type": "execute_result"
    }
   ],
   "source": [
    "df = pd.read_csv('4sem_data.csv')\n",
    "df"
   ]
  },
  {
   "cell_type": "code",
   "execution_count": 10,
   "id": "d6a761b3",
   "metadata": {},
   "outputs": [
    {
     "data": {
      "text/plain": [
       "0      9.825213e+09\n",
       "1      9.427555e+09\n",
       "2      9.909798e+09\n",
       "3      9.104434e+09\n",
       "4      9.727418e+09\n",
       "           ...     \n",
       "445    9.825752e+09\n",
       "446    9.825558e+09\n",
       "447    8.485935e+09\n",
       "448             NaN\n",
       "449    9.979525e+09\n",
       "Name: P_MobileNo, Length: 450, dtype: float64"
      ]
     },
     "execution_count": 10,
     "metadata": {},
     "output_type": "execute_result"
    }
   ],
   "source": [
    "mob = df['P_MobileNo']\n",
    "mob"
   ]
  },
  {
   "cell_type": "code",
   "execution_count": 13,
   "id": "721d6ac3",
   "metadata": {},
   "outputs": [
    {
     "data": {
      "text/plain": [
       "7405542205.0"
      ]
     },
     "execution_count": 13,
     "metadata": {},
     "output_type": "execute_result"
    }
   ],
   "source": [
    "mob[5]"
   ]
  },
  {
   "cell_type": "code",
   "execution_count": 16,
   "id": "b67fbbb0",
   "metadata": {},
   "outputs": [
    {
     "name": "stderr",
     "output_type": "stream",
     "text": [
      "C:\\Users\\utamp\\AppData\\Local\\Temp\\ipykernel_1116\\396281970.py:1: DeprecationWarning: `np.int` is a deprecated alias for the builtin `int`. To silence this warning, use `int` by itself. Doing this will not modify any behavior and is safe. When replacing `np.int`, you may wish to use e.g. `np.int64` or `np.int32` to specify the precision. If you wish to review your current use, check the release note link for additional information.\n",
      "Deprecated in NumPy 1.20; for more details and guidance: https://numpy.org/devdocs/release/1.20.0-notes.html#deprecations\n",
      "  df[\"Pmobile_no\"] = np.int(mob,index =False)\n"
     ]
    },
    {
     "ename": "TypeError",
     "evalue": "'index' is an invalid keyword argument for int()",
     "output_type": "error",
     "traceback": [
      "\u001b[1;31m---------------------------------------------------------------------------\u001b[0m",
      "\u001b[1;31mTypeError\u001b[0m                                 Traceback (most recent call last)",
      "Input \u001b[1;32mIn [16]\u001b[0m, in \u001b[0;36m<cell line: 1>\u001b[1;34m()\u001b[0m\n\u001b[1;32m----> 1\u001b[0m df[\u001b[38;5;124m\"\u001b[39m\u001b[38;5;124mPmobile_no\u001b[39m\u001b[38;5;124m\"\u001b[39m] \u001b[38;5;241m=\u001b[39m \u001b[43mnp\u001b[49m\u001b[38;5;241;43m.\u001b[39;49m\u001b[43mint\u001b[49m\u001b[43m(\u001b[49m\u001b[43mmob\u001b[49m\u001b[43m,\u001b[49m\u001b[43mindex\u001b[49m\u001b[43m \u001b[49m\u001b[38;5;241;43m=\u001b[39;49m\u001b[38;5;28;43;01mFalse\u001b[39;49;00m\u001b[43m)\u001b[49m\n",
      "\u001b[1;31mTypeError\u001b[0m: 'index' is an invalid keyword argument for int()"
     ]
    }
   ],
   "source": [
    "df[\"Pmobile_no\"] = np.int(mob,index =False)"
   ]
  },
  {
   "cell_type": "code",
   "execution_count": null,
   "id": "0c64cfad",
   "metadata": {},
   "outputs": [],
   "source": []
  }
 ],
 "metadata": {
  "kernelspec": {
   "display_name": "Python 3 (ipykernel)",
   "language": "python",
   "name": "python3"
  },
  "language_info": {
   "codemirror_mode": {
    "name": "ipython",
    "version": 3
   },
   "file_extension": ".py",
   "mimetype": "text/x-python",
   "name": "python",
   "nbconvert_exporter": "python",
   "pygments_lexer": "ipython3",
   "version": "3.9.12"
  }
 },
 "nbformat": 4,
 "nbformat_minor": 5
}
